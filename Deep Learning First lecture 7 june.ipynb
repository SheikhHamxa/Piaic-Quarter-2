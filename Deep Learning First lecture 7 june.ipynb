{
 "cells": [
  {
   "cell_type": "markdown",
   "metadata": {},
   "source": [
    "Deep learning has:\n",
    "1_Neural network and\n",
    "2_Feature engineering auto.....\n",
    "\n",
    "1_Supervised learning: supervisor guides/ is involved e.g. this is cat image>label image>annotate data>label is supervised learning it has more acheivement\n",
    "\n",
    "\n",
    "2_Unsupervised learning has:\n",
    "Clustering\n",
    "Dimentionality Reduction\n",
    "Clustering is grouping on some similar features any feature could be chosen\n",
    "\n",
    "3_Reinforcement learning has 4 things:\n",
    "\n",
    "Environment (physical or virtual): Receive input from environment\n",
    "Agent\n",
    "Action\n",
    "Revote\n",
    "Self supervised learning: Machine gives labels itself"
   ]
  },
  {
   "cell_type": "code",
   "execution_count": 1,
   "metadata": {},
   "outputs": [],
   "source": [
    "import pandas as pd\n",
    "import numpy as np\n",
    "import matplotlib.pyplot as plt"
   ]
  },
  {
   "cell_type": "code",
   "execution_count": 2,
   "metadata": {},
   "outputs": [],
   "source": [
    "df = pd.read_csv(\"weight-height.csv\")"
   ]
  },
  {
   "cell_type": "code",
   "execution_count": 3,
   "metadata": {},
   "outputs": [
    {
     "data": {
      "text/html": [
       "<div>\n",
       "<style scoped>\n",
       "    .dataframe tbody tr th:only-of-type {\n",
       "        vertical-align: middle;\n",
       "    }\n",
       "\n",
       "    .dataframe tbody tr th {\n",
       "        vertical-align: top;\n",
       "    }\n",
       "\n",
       "    .dataframe thead th {\n",
       "        text-align: right;\n",
       "    }\n",
       "</style>\n",
       "<table border=\"1\" class=\"dataframe\">\n",
       "  <thead>\n",
       "    <tr style=\"text-align: right;\">\n",
       "      <th></th>\n",
       "      <th>Gender</th>\n",
       "      <th>Height</th>\n",
       "      <th>Weight</th>\n",
       "    </tr>\n",
       "  </thead>\n",
       "  <tbody>\n",
       "    <tr>\n",
       "      <td>0</td>\n",
       "      <td>Male</td>\n",
       "      <td>73.847017</td>\n",
       "      <td>241.893563</td>\n",
       "    </tr>\n",
       "    <tr>\n",
       "      <td>1</td>\n",
       "      <td>Male</td>\n",
       "      <td>68.781904</td>\n",
       "      <td>162.310473</td>\n",
       "    </tr>\n",
       "    <tr>\n",
       "      <td>2</td>\n",
       "      <td>Male</td>\n",
       "      <td>74.110105</td>\n",
       "      <td>212.740856</td>\n",
       "    </tr>\n",
       "    <tr>\n",
       "      <td>3</td>\n",
       "      <td>Male</td>\n",
       "      <td>71.730978</td>\n",
       "      <td>220.042470</td>\n",
       "    </tr>\n",
       "    <tr>\n",
       "      <td>4</td>\n",
       "      <td>Male</td>\n",
       "      <td>69.881796</td>\n",
       "      <td>206.349801</td>\n",
       "    </tr>\n",
       "  </tbody>\n",
       "</table>\n",
       "</div>"
      ],
      "text/plain": [
       "  Gender     Height      Weight\n",
       "0   Male  73.847017  241.893563\n",
       "1   Male  68.781904  162.310473\n",
       "2   Male  74.110105  212.740856\n",
       "3   Male  71.730978  220.042470\n",
       "4   Male  69.881796  206.349801"
      ]
     },
     "execution_count": 3,
     "metadata": {},
     "output_type": "execute_result"
    }
   ],
   "source": [
    "df.head()"
   ]
  },
  {
   "cell_type": "code",
   "execution_count": 4,
   "metadata": {},
   "outputs": [
    {
     "name": "stdout",
     "output_type": "stream",
     "text": [
      "<class 'pandas.core.frame.DataFrame'>\n",
      "RangeIndex: 10000 entries, 0 to 9999\n",
      "Data columns (total 3 columns):\n",
      "Gender    10000 non-null object\n",
      "Height    10000 non-null float64\n",
      "Weight    10000 non-null float64\n",
      "dtypes: float64(2), object(1)\n",
      "memory usage: 234.5+ KB\n"
     ]
    }
   ],
   "source": [
    "df.info()"
   ]
  },
  {
   "cell_type": "code",
   "execution_count": 6,
   "metadata": {},
   "outputs": [
    {
     "name": "stdout",
     "output_type": "stream",
     "text": [
      "[73.84701702 68.78190405 74.11010539 71.7309784  69.88179586]\n",
      "\n",
      "[241.89356318 162.31047252 212.74085556 220.0424703  206.34980062]\n"
     ]
    }
   ],
   "source": [
    "X=df['Height'].values\n",
    "y_true=df['Weight'].values\n",
    "print(X[:5] ,y_true[:5] , sep='\\n\\n')"
   ]
  },
  {
   "cell_type": "code",
   "execution_count": 7,
   "metadata": {},
   "outputs": [],
   "source": [
    "#line Equation\n",
    "def line(x, w=0, b=0):\n",
    "    return x * w + b\n",
    "\n",
    "#Cost Functions\n",
    "def mean_squared_error(y_true, y_pred):\n",
    "    s = (y_true - y_pred) ** 2\n",
    "    return np.sqrt(s.mean())"
   ]
  },
  {
   "cell_type": "code",
   "execution_count": 12,
   "metadata": {},
   "outputs": [
    {
     "data": {
      "text/plain": [
       "Text(0.5, 0, 'b')"
      ]
     },
     "execution_count": 12,
     "metadata": {},
     "output_type": "execute_result"
    },
    {
     "data": {
      "image/png": "[encoded data removed]",
      "text/plain": [
       "<Figure size 720x360 with 2 Axes>"
      ]
     },
     "metadata": {
      "needs_background": "light"
     },
     "output_type": "display_data"
    }
   ],
   "source": [
    "plt.figure(figsize=(10,5))\n",
    "ax1 = plt.subplot(121) # rows,columns, select column 121\n",
    "df.plot(kind='scatter',\n",
    "       x=\"Height\",\n",
    "       y=\"Weight\",\n",
    "       title=\"Height Vs Weight\", ax=ax1)\n",
    "\n",
    "\n",
    "bs = [-100, -50, 0, 50, 100, 150]\n",
    "\n",
    "\n",
    "mses = []\n",
    "for b in bs:\n",
    "    y_pred = line(X, w=2, b=b) # predict line\n",
    "    mse = mean_squared_error(y_true, y_pred)\n",
    "    mses.append(mse)\n",
    "    plt.plot(X, y_pred) \n",
    "    \n",
    "    \n",
    "ax2 = plt.subplot(122)    \n",
    "plt.plot(bs, mses, 'o-')\n",
    "plt.title(\"Cost Functions for each line\")\n",
    "plt.xlabel(\"b\")\n"
   ]
  },
  {
   "cell_type": "code",
   "execution_count": 13,
   "metadata": {},
   "outputs": [
    {
     "name": "stdout",
     "output_type": "stream",
     "text": [
      "[-100, -50, 0, 50, 100, 150]\n",
      "[131.1417931672291, 82.62957208407575, 38.17227332081024, 32.96359686320369, 75.60472859445356, 123.87716195296917]\n"
     ]
    }
   ],
   "source": [
    "print(bs)\n",
    "print(mses)"
   ]
  },
  {
   "cell_type": "markdown",
   "metadata": {},
   "source": [
    "# We have gotten b,w values after runing deep learning algoritham"
   ]
  },
  {
   "cell_type": "code",
   "execution_count": 14,
   "metadata": {},
   "outputs": [
    {
     "data": {
      "text/plain": [
       "[<matplotlib.lines.Line2D at 0x1ed5e62f4c8>]"
      ]
     },
     "execution_count": 14,
     "metadata": {},
     "output_type": "execute_result"
    },
    {
     "data": {
      "image/png": "[encoded data removed]",
      "text/plain": [
       "<Figure size 720x360 with 1 Axes>"
      ]
     },
     "metadata": {
      "needs_background": "light"
     },
     "output_type": "display_data"
    }
   ],
   "source": [
    "plt.figure(figsize=(10,5))\n",
    "ax1 = plt.subplot(121) # rows,columns, select column 121\n",
    "df.plot(kind='scatter',\n",
    "       x=\"Height\",\n",
    "       y=\"Weight\",\n",
    "       title=\"Height Vs Weight\", ax=ax1)\n",
    "\n",
    "\n",
    "\n",
    "\n",
    "y_pred = line(X, w=7.624642, b=-349.7231) # predict line [[7.624642]] [-349.7231]\n",
    "plt.plot(X, y_pred, color='red')\n"
   ]
  },
  {
   "cell_type": "markdown",
   "metadata": {},
   "source": [
    "# Try to find w and b (weights) with Deep Learning"
   ]
  },
  {
   "cell_type": "code",
   "execution_count": 15,
   "metadata": {},
   "outputs": [],
   "source": [
    "from tensorflow.keras.models import Sequential #sequential, Functional API\n",
    "from tensorflow.keras.layers import Dense #each nodes connected with others nodes\n",
    "from tensorflow.keras.optimizers import Adam, SGD"
   ]
  },
  {
   "cell_type": "code",
   "execution_count": 16,
   "metadata": {},
   "outputs": [
    {
     "data": {
      "text/plain": [
       "'2.1.0'"
      ]
     },
     "execution_count": 16,
     "metadata": {},
     "output_type": "execute_result"
    }
   ],
   "source": [
    "import tensorflow\n",
    "tensorflow.__version__\n",
    "#pip install tensorflow"
   ]
  },
  {
   "cell_type": "code",
   "execution_count": 18,
   "metadata": {},
   "outputs": [
    {
     "data": {
      "text/plain": [
       "(10000,)"
      ]
     },
     "execution_count": 18,
     "metadata": {},
     "output_type": "execute_result"
    }
   ],
   "source": [
    "X.shape"
   ]
  },
  {
   "cell_type": "code",
   "execution_count": 19,
   "metadata": {},
   "outputs": [],
   "source": [
    "model = Sequential()\n",
    "model.add(Dense(1, input_shape=(1,)))"
   ]
  },
  {
   "cell_type": "code",
   "execution_count": 20,
   "metadata": {},
   "outputs": [
    {
     "name": "stdout",
     "output_type": "stream",
     "text": [
      "Model: \"sequential\"\n",
      "_________________________________________________________________\n",
      "Layer (type)                 Output Shape              Param #   \n",
      "=================================================================\n",
      "dense (Dense)                (None, 1)                 2         \n",
      "=================================================================\n",
      "Total params: 2\n",
      "Trainable params: 2\n",
      "Non-trainable params: 0\n",
      "_________________________________________________________________\n"
     ]
    }
   ],
   "source": [
    "model.summary()"
   ]
  },
  {
   "cell_type": "code",
   "execution_count": 21,
   "metadata": {},
   "outputs": [],
   "source": [
    "model.compile(Adam(lr=0.8), 'mean_squared_error')"
   ]
  },
  {
   "cell_type": "code",
   "execution_count": 22,
   "metadata": {},
   "outputs": [
    {
     "name": "stdout",
     "output_type": "stream",
     "text": [
      "Train on 10000 samples\n",
      "Epoch 1/45\n",
      "10000/10000 [==============================] - 5s 489us/sample - loss: 653.7156\n",
      "Epoch 2/45\n",
      "10000/10000 [==============================] - 1s 69us/sample - loss: 543.0043\n",
      "Epoch 3/45\n",
      "10000/10000 [==============================] - 1s 82us/sample - loss: 478.0949\n",
      "Epoch 4/45\n",
      "10000/10000 [==============================] - 1s 55us/sample - loss: 416.3591\n",
      "Epoch 5/45\n",
      "10000/10000 [==============================] - 1s 70us/sample - loss: 380.8579\n",
      "Epoch 6/45\n",
      "10000/10000 [==============================] - 1s 108us/sample - loss: 343.4558\n",
      "Epoch 7/45\n",
      "10000/10000 [==============================] - 1s 149us/sample - loss: 312.0931\n",
      "Epoch 8/45\n",
      "10000/10000 [==============================] - 1s 119us/sample - loss: 273.8020\n",
      "Epoch 9/45\n",
      "10000/10000 [==============================] - 1s 71us/sample - loss: 255.7095\n",
      "Epoch 10/45\n",
      "10000/10000 [==============================] - 1s 64us/sample - loss: 240.2783\n",
      "Epoch 11/45\n",
      "10000/10000 [==============================] - 1s 76us/sample - loss: 238.3902\n",
      "Epoch 12/45\n",
      "10000/10000 [==============================] - 1s 82us/sample - loss: 213.8675\n",
      "Epoch 13/45\n",
      "10000/10000 [==============================] - 1s 79us/sample - loss: 217.2743\n",
      "Epoch 14/45\n",
      "10000/10000 [==============================] - 1s 127us/sample - loss: 201.1245\n",
      "Epoch 15/45\n",
      "10000/10000 [==============================] - 1s 100us/sample - loss: 204.4946\n",
      "Epoch 16/45\n",
      "10000/10000 [==============================] - 1s 62us/sample - loss: 196.4651\n",
      "Epoch 17/45\n",
      "10000/10000 [==============================] - 1s 67us/sample - loss: 188.7726\n",
      "Epoch 18/45\n",
      "10000/10000 [==============================] - 1s 66us/sample - loss: 184.3644\n",
      "Epoch 19/45\n",
      "10000/10000 [==============================] - 1s 67us/sample - loss: 174.3967\n",
      "Epoch 20/45\n",
      "10000/10000 [==============================] - 1s 72us/sample - loss: 184.6835\n",
      "Epoch 21/45\n",
      "10000/10000 [==============================] - 1s 74us/sample - loss: 183.5780\n",
      "Epoch 22/45\n",
      "10000/10000 [==============================] - 1s 93us/sample - loss: 170.3626\n",
      "Epoch 23/45\n",
      "10000/10000 [==============================] - 2s 167us/sample - loss: 205.8652\n",
      "Epoch 24/45\n",
      "10000/10000 [==============================] - 1s 68us/sample - loss: 176.0643\n",
      "Epoch 25/45\n",
      "10000/10000 [==============================] - 1s 66us/sample - loss: 174.0946\n",
      "Epoch 26/45\n",
      "10000/10000 [==============================] - 1s 60us/sample - loss: 175.1089\n",
      "Epoch 27/45\n",
      "10000/10000 [==============================] - 0s 36us/sample - loss: 176.4194\n",
      "Epoch 28/45\n",
      "10000/10000 [==============================] - 1s 53us/sample - loss: 172.08830s - loss: 1\n",
      "Epoch 29/45\n",
      "10000/10000 [==============================] - 1s 60us/sample - loss: 177.8919\n",
      "Epoch 30/45\n",
      "10000/10000 [==============================] - 1s 78us/sample - loss: 181.6777\n",
      "Epoch 31/45\n",
      "10000/10000 [==============================] - 1s 79us/sample - loss: 177.9931\n",
      "Epoch 32/45\n",
      "10000/10000 [==============================] - 1s 50us/sample - loss: 186.2193\n",
      "Epoch 33/45\n",
      "10000/10000 [==============================] - 1s 76us/sample - loss: 183.0474\n",
      "Epoch 34/45\n",
      "10000/10000 [==============================] - 1s 56us/sample - loss: 179.7271\n",
      "Epoch 35/45\n",
      "10000/10000 [==============================] - 0s 45us/sample - loss: 178.4588\n",
      "Epoch 36/45\n",
      "10000/10000 [==============================] - 0s 39us/sample - loss: 165.5931\n",
      "Epoch 37/45\n",
      "10000/10000 [==============================] - 0s 40us/sample - loss: 177.2365\n",
      "Epoch 38/45\n",
      "10000/10000 [==============================] - 0s 37us/sample - loss: 184.6753\n",
      "Epoch 39/45\n",
      "10000/10000 [==============================] - 0s 40us/sample - loss: 161.6198\n",
      "Epoch 40/45\n",
      "10000/10000 [==============================] - 0s 36us/sample - loss: 176.6925\n",
      "Epoch 41/45\n",
      "10000/10000 [==============================] - 0s 40us/sample - loss: 174.1801\n",
      "Epoch 42/45\n",
      "10000/10000 [==============================] - 0s 36us/sample - loss: 182.9893\n",
      "Epoch 43/45\n",
      "10000/10000 [==============================] - 0s 38us/sample - loss: 166.5526\n",
      "Epoch 44/45\n",
      "10000/10000 [==============================] - 0s 40us/sample - loss: 178.7975\n",
      "Epoch 45/45\n",
      "10000/10000 [==============================] - 0s 38us/sample - loss: 180.3421\n"
     ]
    },
    {
     "data": {
      "text/plain": [
       "<tensorflow.python.keras.callbacks.History at 0x1ed65ce6b48>"
      ]
     },
     "execution_count": 22,
     "metadata": {},
     "output_type": "execute_result"
    }
   ],
   "source": [
    "model.fit(X, y_true, epochs=45)"
   ]
  },
  {
   "cell_type": "code",
   "execution_count": 23,
   "metadata": {},
   "outputs": [
    {
     "data": {
      "text/plain": [
       "array([[219.802  ],\n",
       "       [180.73328],\n",
       "       [221.8313 ],\n",
       "       ...,\n",
       "       [142.83081],\n",
       "       [182.67963],\n",
       "       [127.99237]], dtype=float32)"
      ]
     },
     "execution_count": 23,
     "metadata": {},
     "output_type": "execute_result"
    }
   ],
   "source": [
    "\n",
    "y_pred_deep_learning = model.predict(X)\n",
    "y_pred_deep_learning"
   ]
  },
  {
   "cell_type": "code",
   "execution_count": 24,
   "metadata": {},
   "outputs": [
    {
     "data": {
      "text/plain": [
       "[<matplotlib.lines.Line2D at 0x1ed65ffc448>]"
      ]
     },
     "execution_count": 24,
     "metadata": {},
     "output_type": "execute_result"
    },
    {
     "data": {
      "image/png": "[encoded data removed]",
      "text/plain": [
       "<Figure size 432x288 with 1 Axes>"
      ]
     },
     "metadata": {
      "needs_background": "light"
     },
     "output_type": "display_data"
    }
   ],
   "source": [
    "df.plot(kind='scatter',\n",
    "       x='Height',\n",
    "       y=\"Weight\",\n",
    "       title=\"Height Vs Weight With Deep Learning (Find w and b)\")\n",
    "plt.plot(X, y_pred_deep_learning, color='red', linewidth=3)"
   ]
  },
  {
   "cell_type": "code",
   "execution_count": 25,
   "metadata": {},
   "outputs": [
    {
     "name": "stdout",
     "output_type": "stream",
     "text": [
      "[[7.7132993]] [-349.80212]\n"
     ]
    }
   ],
   "source": [
    "w, b = model.get_weights()\n",
    "print(w, b)"
   ]
  },
  {
   "cell_type": "code",
   "execution_count": 26,
   "metadata": {},
   "outputs": [
    {
     "data": {
      "text/plain": [
       "array([[1192.8578]], dtype=float32)"
      ]
     },
     "execution_count": 26,
     "metadata": {},
     "output_type": "execute_result"
    }
   ],
   "source": [
    "model.predict([[200]])"
   ]
  },
  {
   "cell_type": "code",
   "execution_count": 27,
   "metadata": {},
   "outputs": [
    {
     "data": {
      "text/plain": [
       "<matplotlib.collections.PathCollection at 0x1ed661db088>"
      ]
     },
     "execution_count": 27,
     "metadata": {},
     "output_type": "execute_result"
    },
    {
     "data": {
      "image/png": "[encoded data removed]",
      "text/plain": [
       "<Figure size 432x288 with 1 Axes>"
      ]
     },
     "metadata": {
      "needs_background": "light"
     },
     "output_type": "display_data"
    }
   ],
   "source": [
    "df.plot(kind='scatter',\n",
    "       x='Height',\n",
    "       y=\"Weight\",\n",
    "       title=\"Height Vs Weight With Deep Learning (Find w and b)\")\n",
    "plt.plot(X, y_pred_deep_learning, color='red', linewidth=3)\n",
    "i = 90\n",
    "plt.scatter(i, model.predict([[i]]))"
   ]
  },
  {
   "cell_type": "code",
   "execution_count": null,
   "metadata": {},
   "outputs": [],
   "source": [
    "if you have'nt installed tensorflow in your local machine so follow these steps: 1) go to colab.com 2) import tensorflow 3) tensorflow.__version__ 4) !pip install --upgrade tensorflow 3) tensorflow.__version__"
   ]
  }
 ],
 "metadata": {
  "kernelspec": {
   "display_name": "Python 3",
   "language": "python",
   "name": "python3"
  },
  "language_info": {
   "codemirror_mode": {
    "name": "ipython",
    "version": 3
   },
   "file_extension": ".py",
   "mimetype": "text/x-python",
   "name": "python",
   "nbconvert_exporter": "python",
   "pygments_lexer": "ipython3",
   "version": "3.7.4"
  }
 },
 "nbformat": 4,
 "nbformat_minor": 2
}
