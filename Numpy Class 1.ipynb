{
 "cells": [
  {
   "cell_type": "code",
   "execution_count": 1,
   "metadata": {},
   "outputs": [
    {
     "name": "stdout",
     "output_type": "stream",
     "text": [
      "%history\n"
     ]
    }
   ],
   "source": [
    "%history\n"
   ]
  },
  {
   "cell_type": "code",
   "execution_count": 4,
   "metadata": {},
   "outputs": [
    {
     "name": "stdout",
     "output_type": "stream",
     "text": [
      "Line1\n",
      "Line2\n"
     ]
    }
   ],
   "source": [
    "print(\"Line1\")\n",
    "print(\"Line2\")"
   ]
  },
  {
   "cell_type": "code",
   "execution_count": 4,
   "metadata": {},
   "outputs": [
    {
     "ename": "ValueError",
     "evalue": "'Numpy.py' was not found in history, as a file, url, nor in the user namespace.",
     "output_type": "error",
     "traceback": [
      "\u001b[1;31m---------------------------------------------------------------------------\u001b[0m",
      "\u001b[1;31mNameError\u001b[0m                                 Traceback (most recent call last)",
      "\u001b[1;32m~\\Anaconda3\\lib\\site-packages\\IPython\\core\\interactiveshell.py\u001b[0m in \u001b[0;36mfind_user_code\u001b[1;34m(self, target, raw, py_only, skip_encoding_cookie, search_ns)\u001b[0m\n\u001b[0;32m   3644\u001b[0m         \u001b[1;32mtry\u001b[0m\u001b[1;33m:\u001b[0m                                              \u001b[1;31m# User namespace\u001b[0m\u001b[1;33m\u001b[0m\u001b[1;33m\u001b[0m\u001b[0m\n\u001b[1;32m-> 3645\u001b[1;33m             \u001b[0mcodeobj\u001b[0m \u001b[1;33m=\u001b[0m \u001b[0meval\u001b[0m\u001b[1;33m(\u001b[0m\u001b[0mtarget\u001b[0m\u001b[1;33m,\u001b[0m \u001b[0mself\u001b[0m\u001b[1;33m.\u001b[0m\u001b[0muser_ns\u001b[0m\u001b[1;33m)\u001b[0m\u001b[1;33m\u001b[0m\u001b[1;33m\u001b[0m\u001b[0m\n\u001b[0m\u001b[0;32m   3646\u001b[0m         \u001b[1;32mexcept\u001b[0m \u001b[0mException\u001b[0m\u001b[1;33m:\u001b[0m\u001b[1;33m\u001b[0m\u001b[1;33m\u001b[0m\u001b[0m\n",
      "\u001b[1;32m<string>\u001b[0m in \u001b[0;36m<module>\u001b[1;34m\u001b[0m\n",
      "\u001b[1;31mNameError\u001b[0m: name 'Numpy' is not defined",
      "\nDuring handling of the above exception, another exception occurred:\n",
      "\u001b[1;31mValueError\u001b[0m                                Traceback (most recent call last)",
      "\u001b[1;32m<ipython-input-4-10aea6980f65>\u001b[0m in \u001b[0;36m<module>\u001b[1;34m\u001b[0m\n\u001b[1;32m----> 1\u001b[1;33m \u001b[0mget_ipython\u001b[0m\u001b[1;33m(\u001b[0m\u001b[1;33m)\u001b[0m\u001b[1;33m.\u001b[0m\u001b[0mrun_line_magic\u001b[0m\u001b[1;33m(\u001b[0m\u001b[1;34m'load'\u001b[0m\u001b[1;33m,\u001b[0m \u001b[1;34m'Numpy.py'\u001b[0m\u001b[1;33m)\u001b[0m\u001b[1;33m\u001b[0m\u001b[1;33m\u001b[0m\u001b[0m\n\u001b[0m\u001b[0;32m      2\u001b[0m \u001b[0mprint\u001b[0m\u001b[1;33m(\u001b[0m\u001b[1;34m\"Line1\"\u001b[0m\u001b[1;33m)\u001b[0m\u001b[1;33m\u001b[0m\u001b[1;33m\u001b[0m\u001b[0m\n\u001b[0;32m      3\u001b[0m \u001b[0mprint\u001b[0m\u001b[1;33m(\u001b[0m\u001b[1;34m\"Line2\"\u001b[0m\u001b[1;33m)\u001b[0m\u001b[1;33m\u001b[0m\u001b[1;33m\u001b[0m\u001b[0m\n",
      "\u001b[1;32m~\\Anaconda3\\lib\\site-packages\\IPython\\core\\interactiveshell.py\u001b[0m in \u001b[0;36mrun_line_magic\u001b[1;34m(self, magic_name, line, _stack_depth)\u001b[0m\n\u001b[0;32m   2312\u001b[0m                 \u001b[0mkwargs\u001b[0m\u001b[1;33m[\u001b[0m\u001b[1;34m'local_ns'\u001b[0m\u001b[1;33m]\u001b[0m \u001b[1;33m=\u001b[0m \u001b[0msys\u001b[0m\u001b[1;33m.\u001b[0m\u001b[0m_getframe\u001b[0m\u001b[1;33m(\u001b[0m\u001b[0mstack_depth\u001b[0m\u001b[1;33m)\u001b[0m\u001b[1;33m.\u001b[0m\u001b[0mf_locals\u001b[0m\u001b[1;33m\u001b[0m\u001b[1;33m\u001b[0m\u001b[0m\n\u001b[0;32m   2313\u001b[0m             \u001b[1;32mwith\u001b[0m \u001b[0mself\u001b[0m\u001b[1;33m.\u001b[0m\u001b[0mbuiltin_trap\u001b[0m\u001b[1;33m:\u001b[0m\u001b[1;33m\u001b[0m\u001b[1;33m\u001b[0m\u001b[0m\n\u001b[1;32m-> 2314\u001b[1;33m                 \u001b[0mresult\u001b[0m \u001b[1;33m=\u001b[0m \u001b[0mfn\u001b[0m\u001b[1;33m(\u001b[0m\u001b[1;33m*\u001b[0m\u001b[0margs\u001b[0m\u001b[1;33m,\u001b[0m \u001b[1;33m**\u001b[0m\u001b[0mkwargs\u001b[0m\u001b[1;33m)\u001b[0m\u001b[1;33m\u001b[0m\u001b[1;33m\u001b[0m\u001b[0m\n\u001b[0m\u001b[0;32m   2315\u001b[0m             \u001b[1;32mreturn\u001b[0m \u001b[0mresult\u001b[0m\u001b[1;33m\u001b[0m\u001b[1;33m\u001b[0m\u001b[0m\n\u001b[0;32m   2316\u001b[0m \u001b[1;33m\u001b[0m\u001b[0m\n",
      "\u001b[1;32m<C:\\Users\\Hamxa\\Anaconda3\\lib\\site-packages\\decorator.py:decorator-gen-47>\u001b[0m in \u001b[0;36mload\u001b[1;34m(self, arg_s)\u001b[0m\n",
      "\u001b[1;32m~\\Anaconda3\\lib\\site-packages\\IPython\\core\\magic.py\u001b[0m in \u001b[0;36m<lambda>\u001b[1;34m(f, *a, **k)\u001b[0m\n\u001b[0;32m    185\u001b[0m     \u001b[1;31m# but it's overkill for just that one bit of state.\u001b[0m\u001b[1;33m\u001b[0m\u001b[1;33m\u001b[0m\u001b[1;33m\u001b[0m\u001b[0m\n\u001b[0;32m    186\u001b[0m     \u001b[1;32mdef\u001b[0m \u001b[0mmagic_deco\u001b[0m\u001b[1;33m(\u001b[0m\u001b[0marg\u001b[0m\u001b[1;33m)\u001b[0m\u001b[1;33m:\u001b[0m\u001b[1;33m\u001b[0m\u001b[1;33m\u001b[0m\u001b[0m\n\u001b[1;32m--> 187\u001b[1;33m         \u001b[0mcall\u001b[0m \u001b[1;33m=\u001b[0m \u001b[1;32mlambda\u001b[0m \u001b[0mf\u001b[0m\u001b[1;33m,\u001b[0m \u001b[1;33m*\u001b[0m\u001b[0ma\u001b[0m\u001b[1;33m,\u001b[0m \u001b[1;33m**\u001b[0m\u001b[0mk\u001b[0m\u001b[1;33m:\u001b[0m \u001b[0mf\u001b[0m\u001b[1;33m(\u001b[0m\u001b[1;33m*\u001b[0m\u001b[0ma\u001b[0m\u001b[1;33m,\u001b[0m \u001b[1;33m**\u001b[0m\u001b[0mk\u001b[0m\u001b[1;33m)\u001b[0m\u001b[1;33m\u001b[0m\u001b[1;33m\u001b[0m\u001b[0m\n\u001b[0m\u001b[0;32m    188\u001b[0m \u001b[1;33m\u001b[0m\u001b[0m\n\u001b[0;32m    189\u001b[0m         \u001b[1;32mif\u001b[0m \u001b[0mcallable\u001b[0m\u001b[1;33m(\u001b[0m\u001b[0marg\u001b[0m\u001b[1;33m)\u001b[0m\u001b[1;33m:\u001b[0m\u001b[1;33m\u001b[0m\u001b[1;33m\u001b[0m\u001b[0m\n",
      "\u001b[1;32m~\\Anaconda3\\lib\\site-packages\\IPython\\core\\magics\\code.py\u001b[0m in \u001b[0;36mload\u001b[1;34m(self, arg_s)\u001b[0m\n\u001b[0;32m    333\u001b[0m         \u001b[0msearch_ns\u001b[0m \u001b[1;33m=\u001b[0m \u001b[1;34m'n'\u001b[0m \u001b[1;32min\u001b[0m \u001b[0mopts\u001b[0m\u001b[1;33m\u001b[0m\u001b[1;33m\u001b[0m\u001b[0m\n\u001b[0;32m    334\u001b[0m \u001b[1;33m\u001b[0m\u001b[0m\n\u001b[1;32m--> 335\u001b[1;33m         \u001b[0mcontents\u001b[0m \u001b[1;33m=\u001b[0m \u001b[0mself\u001b[0m\u001b[1;33m.\u001b[0m\u001b[0mshell\u001b[0m\u001b[1;33m.\u001b[0m\u001b[0mfind_user_code\u001b[0m\u001b[1;33m(\u001b[0m\u001b[0margs\u001b[0m\u001b[1;33m,\u001b[0m \u001b[0msearch_ns\u001b[0m\u001b[1;33m=\u001b[0m\u001b[0msearch_ns\u001b[0m\u001b[1;33m)\u001b[0m\u001b[1;33m\u001b[0m\u001b[1;33m\u001b[0m\u001b[0m\n\u001b[0m\u001b[0;32m    336\u001b[0m \u001b[1;33m\u001b[0m\u001b[0m\n\u001b[0;32m    337\u001b[0m         \u001b[1;32mif\u001b[0m \u001b[1;34m's'\u001b[0m \u001b[1;32min\u001b[0m \u001b[0mopts\u001b[0m\u001b[1;33m:\u001b[0m\u001b[1;33m\u001b[0m\u001b[1;33m\u001b[0m\u001b[0m\n",
      "\u001b[1;32m~\\Anaconda3\\lib\\site-packages\\IPython\\core\\interactiveshell.py\u001b[0m in \u001b[0;36mfind_user_code\u001b[1;34m(self, target, raw, py_only, skip_encoding_cookie, search_ns)\u001b[0m\n\u001b[0;32m   3646\u001b[0m         \u001b[1;32mexcept\u001b[0m \u001b[0mException\u001b[0m\u001b[1;33m:\u001b[0m\u001b[1;33m\u001b[0m\u001b[1;33m\u001b[0m\u001b[0m\n\u001b[0;32m   3647\u001b[0m             raise ValueError((\"'%s' was not found in history, as a file, url, \"\n\u001b[1;32m-> 3648\u001b[1;33m                                 \"nor in the user namespace.\") % target)\n\u001b[0m\u001b[0;32m   3649\u001b[0m \u001b[1;33m\u001b[0m\u001b[0m\n\u001b[0;32m   3650\u001b[0m         \u001b[1;32mif\u001b[0m \u001b[0misinstance\u001b[0m\u001b[1;33m(\u001b[0m\u001b[0mcodeobj\u001b[0m\u001b[1;33m,\u001b[0m \u001b[0mstr\u001b[0m\u001b[1;33m)\u001b[0m\u001b[1;33m:\u001b[0m\u001b[1;33m\u001b[0m\u001b[1;33m\u001b[0m\u001b[0m\n",
      "\u001b[1;31mValueError\u001b[0m: 'Numpy.py' was not found in history, as a file, url, nor in the user namespace."
     ]
    }
   ],
   "source": [
    "#%load Numpy.py\n",
    "print(\"Line1\")\n",
    "print(\"Line2\")"
   ]
  },
  {
   "cell_type": "code",
   "execution_count": 3,
   "metadata": {},
   "outputs": [
    {
     "name": "stderr",
     "output_type": "stream",
     "text": [
      "ERROR:root:File `'filename.py'` not found.\n"
     ]
    }
   ],
   "source": [
    "%run filename.py\n"
   ]
  },
  {
   "cell_type": "code",
   "execution_count": 4,
   "metadata": {},
   "outputs": [
    {
     "name": "stdout",
     "output_type": "stream",
     "text": [
      "print(\"Line1\")\n",
      "print(\"Line2\")\n",
      "%run Numpy.py\n",
      "%run filename.py\n",
      "%history\n"
     ]
    }
   ],
   "source": [
    "%history\n"
   ]
  },
  {
   "cell_type": "code",
   "execution_count": 5,
   "metadata": {},
   "outputs": [
    {
     "name": "stdout",
     "output_type": "stream",
     "text": [
      "Wall time: 0 ns\n"
     ]
    },
    {
     "data": {
      "text/plain": [
       "8"
      ]
     },
     "execution_count": 5,
     "metadata": {},
     "output_type": "execute_result"
    }
   ],
   "source": [
    "%time sum([1,3,4])\n"
   ]
  },
  {
   "cell_type": "markdown",
   "metadata": {},
   "source": [
    "# Python Vs Numpy¶\n"
   ]
  },
  {
   "cell_type": "code",
   "execution_count": 6,
   "metadata": {},
   "outputs": [
    {
     "name": "stdout",
     "output_type": "stream",
     "text": [
      "Wall time: 90.4 ms\n"
     ]
    }
   ],
   "source": [
    "%time l1 = list(range(1,3000000))\n"
   ]
  },
  {
   "cell_type": "code",
   "execution_count": 7,
   "metadata": {},
   "outputs": [
    {
     "data": {
      "text/plain": [
       "[6, 7, 8, 9, 10, 11, 12, 13, 14, 15]"
      ]
     },
     "execution_count": 7,
     "metadata": {},
     "output_type": "execute_result"
    }
   ],
   "source": [
    "[x+5 for x in l1][:10]"
   ]
  },
  {
   "cell_type": "code",
   "execution_count": 8,
   "metadata": {},
   "outputs": [
    {
     "name": "stdout",
     "output_type": "stream",
     "text": [
      "Wall time: 531 ms\n"
     ]
    },
    {
     "data": {
      "text/plain": [
       "[6, 7, 8, 9, 10, 11, 12, 13, 14, 15]"
      ]
     },
     "execution_count": 8,
     "metadata": {},
     "output_type": "execute_result"
    }
   ],
   "source": [
    "%time [x+5 for x in l1][:10]\n"
   ]
  },
  {
   "cell_type": "markdown",
   "metadata": {},
   "source": [
    "# Enumerate"
   ]
  },
  {
   "cell_type": "code",
   "execution_count": 16,
   "metadata": {},
   "outputs": [
    {
     "data": {
      "text/plain": [
       "[(0, 'a'), (1, 'b'), (2, 'c')]"
      ]
     },
     "execution_count": 16,
     "metadata": {},
     "output_type": "execute_result"
    }
   ],
   "source": [
    "list(enumerate(['a','b','c']))"
   ]
  },
  {
   "cell_type": "code",
   "execution_count": 19,
   "metadata": {},
   "outputs": [
    {
     "data": {
      "text/plain": [
       "[(0, 'A'), (1, 'B'), (2, 'C')]"
      ]
     },
     "execution_count": 19,
     "metadata": {},
     "output_type": "execute_result"
    }
   ],
   "source": [
    "list(enumerate(['A','B',\"C\"]))\n"
   ]
  },
  {
   "cell_type": "code",
   "execution_count": 9,
   "metadata": {},
   "outputs": [
    {
     "data": {
      "text/plain": [
       "[6, 7, 8, 9, 10, 11, 12, 13, 14, 15]"
      ]
     },
     "execution_count": 9,
     "metadata": {},
     "output_type": "execute_result"
    }
   ],
   "source": [
    "for i,v in list(enumerate(l1)):\n",
    "    l1[i]=l1[i]+5\n",
    "l1[:10]    "
   ]
  },
  {
   "cell_type": "code",
   "execution_count": 11,
   "metadata": {},
   "outputs": [
    {
     "data": {
      "text/plain": [
       "[11, 12, 13, 14, 15, 16, 17, 18, 19, 20]"
      ]
     },
     "execution_count": 11,
     "metadata": {},
     "output_type": "execute_result"
    }
   ],
   "source": [
    "for i,v in list(enumerate(l1)):\n",
    "    l1[i] = l1[i]+5\n",
    "l1[:10]"
   ]
  },
  {
   "cell_type": "markdown",
   "metadata": {},
   "source": [
    "# for  Addition in simple python too big code"
   ]
  },
  {
   "cell_type": "code",
   "execution_count": 10,
   "metadata": {},
   "outputs": [
    {
     "name": "stdout",
     "output_type": "stream",
     "text": [
      "Before Adding 5\n",
      "[[1, 2, 3], [4, 5, 6], [7, 8, 9]]\n",
      "After Adding 5\n",
      "[[6, 7, 8], [9, 10, 11], [12, 13, 14]]\n"
     ]
    }
   ],
   "source": [
    "\n",
    "a = [[1,2,3],\n",
    "    [4,5,6],\n",
    "    [7,8,9]]\n",
    "\n",
    "print(\"Before Adding 5\")\n",
    "print(a)\n",
    "for ri, rd in list(enumerate(a)):\n",
    "    for ci, cd in list(enumerate(rd)):\n",
    "        a[ri][ci] += 5\n",
    "        \n",
    "\n",
    "print(\"After Adding 5\")\n",
    "print(a)"
   ]
  },
  {
   "cell_type": "code",
   "execution_count": 11,
   "metadata": {},
   "outputs": [
    {
     "ename": "TypeError",
     "evalue": "can only concatenate list (not \"int\") to list",
     "output_type": "error",
     "traceback": [
      "\u001b[1;31m---------------------------------------------------------------------------\u001b[0m",
      "\u001b[1;31mTypeError\u001b[0m                                 Traceback (most recent call last)",
      "\u001b[1;32m<ipython-input-11-b7b23b5a1aff>\u001b[0m in \u001b[0;36m<module>\u001b[1;34m\u001b[0m\n\u001b[0;32m      1\u001b[0m \u001b[1;31m# it was not possible to simple add list/array\u001b[0m\u001b[1;33m\u001b[0m\u001b[1;33m\u001b[0m\u001b[1;33m\u001b[0m\u001b[0m\n\u001b[0;32m      2\u001b[0m \u001b[0ma\u001b[0m \u001b[1;33m=\u001b[0m \u001b[1;33m[\u001b[0m\u001b[1;36m1\u001b[0m\u001b[1;33m,\u001b[0m\u001b[1;36m2\u001b[0m\u001b[1;33m,\u001b[0m\u001b[1;36m3\u001b[0m\u001b[1;33m]\u001b[0m\u001b[1;33m\u001b[0m\u001b[1;33m\u001b[0m\u001b[0m\n\u001b[1;32m----> 3\u001b[1;33m \u001b[0ma\u001b[0m \u001b[1;33m+\u001b[0m \u001b[1;36m5\u001b[0m\u001b[1;33m\u001b[0m\u001b[1;33m\u001b[0m\u001b[0m\n\u001b[0m",
      "\u001b[1;31mTypeError\u001b[0m: can only concatenate list (not \"int\") to list"
     ]
    }
   ],
   "source": [
    "# it was not possible to simple add list/array\n",
    "a = [1,2,3]\n",
    "a + 5"
   ]
  },
  {
   "cell_type": "markdown",
   "metadata": {},
   "source": [
    "# Numpy\n"
   ]
  },
  {
   "cell_type": "code",
   "execution_count": 13,
   "metadata": {},
   "outputs": [],
   "source": [
    "import numpy as np\n"
   ]
  },
  {
   "cell_type": "code",
   "execution_count": 14,
   "metadata": {},
   "outputs": [
    {
     "name": "stdout",
     "output_type": "stream",
     "text": [
      "Wall time: 9.97 ms\n"
     ]
    }
   ],
   "source": [
    "%time l2 = np.arange(1,3000000)\n"
   ]
  },
  {
   "cell_type": "code",
   "execution_count": 15,
   "metadata": {},
   "outputs": [
    {
     "name": "stdout",
     "output_type": "stream",
     "text": [
      "Dimension: 1\n",
      "Shape: (2999999,)\n",
      "Type: int32\n"
     ]
    }
   ],
   "source": [
    "l1 = np.array([1])\n",
    "print(\"Dimension:\", l2.ndim)\n",
    "print(\"Shape:\", l2.shape)\n",
    "print(\"Type:\", l2.dtype)"
   ]
  },
  {
   "cell_type": "code",
   "execution_count": 26,
   "metadata": {},
   "outputs": [
    {
     "name": "stdout",
     "output_type": "stream",
     "text": [
      "[[-0.83554632 -0.28220271]\n",
      " [-0.90457817  1.13757011]]\n",
      "Dimension: 2\n",
      "Shape: (2, 2)\n",
      "Type: float64\n"
     ]
    }
   ],
   "source": [
    "l1 = np.random.randn(2,2)\n",
    "print(l1)\n",
    "print(\"Dimension:\", l1.ndim)\n",
    "print(\"Shape:\", l1.shape)\n",
    "print(\"Type:\", l1.dtype)\n",
    "#l1[row,col]"
   ]
  },
  {
   "cell_type": "code",
   "execution_count": 27,
   "metadata": {},
   "outputs": [
    {
     "name": "stdout",
     "output_type": "stream",
     "text": [
      "[[[ 1.08132278  0.56461414 -0.1331651 ]\n",
      "  [-0.50959732  0.73880521 -0.43303517]\n",
      "  [ 0.69596368  0.4084376  -0.40793724]]\n",
      "\n",
      " [[ 0.26295631  1.79463521 -0.25609587]\n",
      "  [-0.88156934 -0.95731231  0.45831443]\n",
      "  [-0.16792061  0.04196872  0.92422753]]\n",
      "\n",
      " [[-0.52679498 -1.1645016  -1.07212646]\n",
      "  [ 0.98711072 -0.69900185 -0.40344924]\n",
      "  [ 2.53497034  0.40868595 -0.66853449]]]\n",
      "Dimension: 3\n",
      "Shape: (3, 3, 3)\n",
      "Type: float64\n"
     ]
    }
   ],
   "source": [
    "l1 = np.random.randn(3,3,3)\n",
    "print(l1)\n",
    "print(\"Dimension:\", l1.ndim)\n",
    "print(\"Shape:\", l1.shape)\n",
    "print(\"Type:\", l1.dtype)"
   ]
  },
  {
   "cell_type": "code",
   "execution_count": 21,
   "metadata": {},
   "outputs": [
    {
     "name": "stdout",
     "output_type": "stream",
     "text": [
      "[[[ 0  1  2]\n",
      "  [ 3  4  5]\n",
      "  [ 6  7  8]]\n",
      "\n",
      " [[ 9 10 11]\n",
      "  [12 13 14]\n",
      "  [15 16 17]]\n",
      "\n",
      " [[18 19 20]\n",
      "  [21 22 23]\n",
      "  [24 25 26]]]\n",
      "Dimension: 3\n",
      "Shape: (3, 3, 3)\n",
      "Type: int32\n"
     ]
    }
   ],
   "source": [
    "l1 = np.arange(27).reshape((3,3,3))\n",
    "print(l1)\n",
    "print(\"Dimension:\", l1.ndim)\n",
    "print(\"Shape:\", l1.shape)\n",
    "print(\"Type:\", l1.dtype)\n"
   ]
  },
  {
   "cell_type": "code",
   "execution_count": 22,
   "metadata": {},
   "outputs": [
    {
     "data": {
      "text/plain": [
       "16"
      ]
     },
     "execution_count": 22,
     "metadata": {},
     "output_type": "execute_result"
    }
   ],
   "source": [
    "l1[1,2,1] # slicing to find 16 "
   ]
  },
  {
   "cell_type": "code",
   "execution_count": 24,
   "metadata": {},
   "outputs": [],
   "source": [
    "#l1[i,j,k]\n",
    "#3 x 3"
   ]
  },
  {
   "cell_type": "code",
   "execution_count": 25,
   "metadata": {},
   "outputs": [],
   "source": [
    "#By numpy we dont require bi loops. we can simply add"
   ]
  },
  {
   "cell_type": "code",
   "execution_count": 26,
   "metadata": {},
   "outputs": [
    {
     "name": "stdout",
     "output_type": "stream",
     "text": [
      "[[[ 0  1  2]\n",
      "  [ 3  4  5]\n",
      "  [ 6  7  8]]\n",
      "\n",
      " [[ 9 10 11]\n",
      "  [12 13 14]\n",
      "  [15 16 17]]\n",
      "\n",
      " [[18 19 20]\n",
      "  [21 22 23]\n",
      "  [24 25 26]]]\n"
     ]
    },
    {
     "data": {
      "text/plain": [
       "array([[[ 5,  6,  7],\n",
       "        [ 8,  9, 10],\n",
       "        [11, 12, 13]],\n",
       "\n",
       "       [[14, 15, 16],\n",
       "        [17, 18, 19],\n",
       "        [20, 21, 22]],\n",
       "\n",
       "       [[23, 24, 25],\n",
       "        [26, 27, 28],\n",
       "        [29, 30, 31]]])"
      ]
     },
     "execution_count": 26,
     "metadata": {},
     "output_type": "execute_result"
    }
   ],
   "source": [
    "l1 = np.arange(27).reshape((3,3,3))\n",
    "print(l1)\n",
    "\n",
    "l1 = l1 + 5\n",
    "l1"
   ]
  },
  {
   "cell_type": "code",
   "execution_count": 27,
   "metadata": {},
   "outputs": [
    {
     "name": "stdout",
     "output_type": "stream",
     "text": [
      "[ 1  2  3  4  5  6  7  8  9 10]\n",
      "Dimension: 1\n",
      "Shape: (10,)\n",
      "Type: int32\n"
     ]
    }
   ],
   "source": [
    "l1 = np.arange(1,11)\n",
    "print(l1)\n",
    "print(\"Dimension:\", l1.ndim)\n",
    "print(\"Shape:\", l1.shape)\n",
    "print(\"Type:\", l1.dtype)"
   ]
  },
  {
   "cell_type": "code",
   "execution_count": 32,
   "metadata": {},
   "outputs": [
    {
     "name": "stdout",
     "output_type": "stream",
     "text": [
      "[[ 1  2  3  4  5]\n",
      " [ 6  7  8  9 10]\n",
      " [11 12 13 14 15]\n",
      " [16 17 18 19 20]\n",
      " [21 22 23 24 25]]\n",
      "Dimension: 2\n",
      "Shape: (5, 5)\n",
      "Type: int32\n"
     ]
    }
   ],
   "source": [
    "l1 = np.arange(1,26).reshape((5,5))\n",
    "print(l1)\n",
    "print(\"Dimension:\", l1.ndim)\n",
    "print(\"Shape:\", l1.shape)\n",
    "print(\"Type:\", l1.dtype)"
   ]
  },
  {
   "cell_type": "code",
   "execution_count": 33,
   "metadata": {},
   "outputs": [
    {
     "name": "stdout",
     "output_type": "stream",
     "text": [
      "[[[[[-0.68596102 -0.32324662  1.75437807]\n",
      "    [ 0.64047319 -1.11567314 -0.49069156]\n",
      "    [-0.49809203 -2.31861832 -1.68188795]]\n",
      "\n",
      "   [[ 0.72634309 -1.38872678  0.65637567]\n",
      "    [-0.28424884 -0.11452334 -0.26624317]\n",
      "    [-1.35018258  1.81731295  0.86259955]]\n",
      "\n",
      "   [[-1.16505489 -0.62210759 -0.57560797]\n",
      "    [-1.2925079   0.77009441 -1.80454014]\n",
      "    [ 0.91074486 -0.28412084 -0.40926706]]]\n",
      "\n",
      "\n",
      "  [[[-1.18093012  0.49916778 -1.26778224]\n",
      "    [ 0.04427936  1.0384655  -1.30098248]\n",
      "    [ 1.12326119  0.81285595 -0.34501932]]\n",
      "\n",
      "   [[ 1.70143547 -0.20911185  1.10962153]\n",
      "    [-0.91896905 -2.11439126  0.75640027]\n",
      "    [-0.27610916 -0.84205812 -0.48901917]]\n",
      "\n",
      "   [[ 0.66658894  1.40728771 -0.04641093]\n",
      "    [-0.15743856  0.26163259  1.04795801]\n",
      "    [ 0.34082122  0.98977344 -0.58832334]]]\n",
      "\n",
      "\n",
      "  [[[ 2.02969101  1.15016691 -0.0860614 ]\n",
      "    [-0.0307547   0.06937256  0.12019587]\n",
      "    [-1.73289086  1.68769181 -0.6082371 ]]\n",
      "\n",
      "   [[-0.40228004  0.65116331  0.4157602 ]\n",
      "    [ 1.39659554  1.53583045  1.6394926 ]\n",
      "    [-0.8218362  -0.11502761  0.26325669]]\n",
      "\n",
      "   [[ 0.03648163  0.75334567 -0.77733596]\n",
      "    [-0.28638663  0.4079189  -0.65772069]\n",
      "    [-0.04988059  0.5326758  -0.1509535 ]]]]\n",
      "\n",
      "\n",
      "\n",
      " [[[[-1.8089268  -1.78008474  0.30681903]\n",
      "    [-0.12365037  0.08776815 -0.60131543]\n",
      "    [ 1.8812903  -0.48560138  0.75458656]]\n",
      "\n",
      "   [[ 0.62135767  0.13753721  0.26503873]\n",
      "    [-2.47117667  0.28407054 -1.0305554 ]\n",
      "    [-1.35696254 -1.47680078 -1.61860407]]\n",
      "\n",
      "   [[ 0.16031389 -0.16944395 -0.43392996]\n",
      "    [ 0.51378766 -0.20755047  1.21969649]\n",
      "    [ 1.64464708 -2.63805472 -1.71164011]]]\n",
      "\n",
      "\n",
      "  [[[-1.05051221  1.84556943  1.34008777]\n",
      "    [-0.08364345  0.81552696  0.85248984]\n",
      "    [ 0.59782546 -1.92055044  0.66154207]]\n",
      "\n",
      "   [[-0.84737264  0.29811553 -1.08097462]\n",
      "    [-1.50473001  0.6372297   0.23882446]\n",
      "    [ 0.09739107 -0.86792184  1.73052631]]\n",
      "\n",
      "   [[ 1.08693049 -0.75974532  0.24843277]\n",
      "    [-1.01865071  0.02171339  1.38191982]\n",
      "    [-0.05286083  2.4034199  -0.21356892]]]\n",
      "\n",
      "\n",
      "  [[[-0.07721367 -0.32337361 -0.54456546]\n",
      "    [ 0.28583213  1.27123298 -0.03441281]\n",
      "    [-0.06168525  0.86333843  0.85036801]]\n",
      "\n",
      "   [[ 1.05471938  0.22753818 -2.81208422]\n",
      "    [ 1.41754681 -1.36921629 -0.19762649]\n",
      "    [-0.41973028 -0.57325742 -0.3084515 ]]\n",
      "\n",
      "   [[-0.09098539  0.43886665  0.95977365]\n",
      "    [-0.63270287 -0.35073323 -1.06156441]\n",
      "    [-0.1191346   1.06560939  0.29442978]]]]\n",
      "\n",
      "\n",
      "\n",
      " [[[[-0.72413034 -0.03741756 -0.26674061]\n",
      "    [ 0.79619659  0.60046847 -0.01994059]\n",
      "    [ 1.3508783  -0.67404176 -1.68298334]]\n",
      "\n",
      "   [[ 0.36620168 -0.29013705 -0.15287537]\n",
      "    [ 0.14261457 -0.95284991 -0.39930606]\n",
      "    [-0.63197556 -0.99718006  1.20866579]]\n",
      "\n",
      "   [[ 0.17637886 -0.66171526  0.39804652]\n",
      "    [-0.13140812  0.84848372  1.01980583]\n",
      "    [ 1.06162967  1.33679591  1.07888763]]]\n",
      "\n",
      "\n",
      "  [[[-0.54621651  2.58252319 -0.18014289]\n",
      "    [-0.51997639 -0.82054148 -0.34967047]\n",
      "    [ 1.12822003 -0.00568613  0.68737332]]\n",
      "\n",
      "   [[-0.730882   -1.83105924 -0.51106011]\n",
      "    [-1.87181376 -0.37801517 -0.91985821]\n",
      "    [-0.64637842 -0.30378213  0.10955677]]\n",
      "\n",
      "   [[ 1.46119655  0.28542663 -0.6554899 ]\n",
      "    [ 1.32121121 -0.13839538 -1.4062115 ]\n",
      "    [ 0.09900211 -0.74214495 -0.3807113 ]]]\n",
      "\n",
      "\n",
      "  [[[-2.01696095  1.38282365 -0.86116038]\n",
      "    [ 1.04399933 -0.10695861 -1.08999279]\n",
      "    [-0.82136102 -0.12811897  0.29897751]]\n",
      "\n",
      "   [[-0.00502109  0.1164677  -1.57648172]\n",
      "    [-0.92043419  0.07583563 -0.83135481]\n",
      "    [ 0.44039193 -0.38074754 -0.0357138 ]]\n",
      "\n",
      "   [[ 0.06374203  0.06920305 -0.70806441]\n",
      "    [-0.23515892  0.42727098  0.2533357 ]\n",
      "    [ 1.11370836 -0.03070461 -0.01935387]]]]]\n",
      "Dimension: 5\n",
      "Shape: (3, 3, 3, 3, 3)\n",
      "itemsize 8\n",
      "Type: float64\n"
     ]
    }
   ],
   "source": [
    "l1 = np.random.randn(3,3,3,3,3)\n",
    "print(l1)\n",
    "print(\"Dimension:\", l1.ndim)\n",
    "print(\"Shape:\", l1.shape)\n",
    "print(\"itemsize\", l1.itemsize) # bit/byte\n",
    "print(\"Type:\", l1.dtype)"
   ]
  },
  {
   "cell_type": "code",
   "execution_count": 34,
   "metadata": {},
   "outputs": [
    {
     "name": "stdout",
     "output_type": "stream",
     "text": [
      "[[[1.         1.41421356 1.73205081]\n",
      "  [2.         2.23606798 2.44948974]\n",
      "  [2.64575131 2.82842712 3.        ]]\n",
      "\n",
      " [[3.16227766 3.31662479 3.46410162]\n",
      "  [3.60555128 3.74165739 3.87298335]\n",
      "  [4.         4.12310563 4.24264069]]\n",
      "\n",
      " [[4.35889894 4.47213595 4.58257569]\n",
      "  [4.69041576 4.79583152 4.89897949]\n",
      "  [5.         5.09901951 5.19615242]]]\n"
     ]
    }
   ],
   "source": [
    "a = np.arange(1,28).reshape((3,3,3))\n",
    "print(a ** .5)"
   ]
  },
  {
   "cell_type": "markdown",
   "metadata": {},
   "source": [
    "# Creating ndarrays¶\n"
   ]
  },
  {
   "cell_type": "markdown",
   "metadata": {},
   "source": [
    "# np.array"
   ]
  },
  {
   "cell_type": "code",
   "execution_count": 33,
   "metadata": {},
   "outputs": [
    {
     "name": "stdout",
     "output_type": "stream",
     "text": [
      "<class 'list'>\n",
      "False\n"
     ]
    },
    {
     "data": {
      "text/plain": [
       "numpy.ndarray"
      ]
     },
     "execution_count": 33,
     "metadata": {},
     "output_type": "execute_result"
    }
   ],
   "source": [
    "# Deep Copy\n",
    "l = [1,2,3]\n",
    "print(type(l))\n",
    "\n",
    "a = np.array(l)\n",
    "b = np.array(a)\n",
    "\n",
    "print(a is b)\n",
    "type(a)\n",
    "# #array m deep copy\n"
   ]
  },
  {
   "cell_type": "markdown",
   "metadata": {},
   "source": [
    "# np.asarray"
   ]
  },
  {
   "cell_type": "code",
   "execution_count": 34,
   "metadata": {},
   "outputs": [
    {
     "name": "stdout",
     "output_type": "stream",
     "text": [
      "<class 'list'>\n",
      "True\n",
      "False\n",
      "False\n"
     ]
    },
    {
     "data": {
      "text/plain": [
       "numpy.ndarray"
      ]
     },
     "execution_count": 34,
     "metadata": {},
     "output_type": "execute_result"
    }
   ],
   "source": [
    "# 1 array->Shallow Copy\n",
    "# 2 array->Change dtype -> Deep Copy\n",
    "# 3 if not array->Deep copy\n",
    "l = [1,2,3]\n",
    "print(type(l))\n",
    "\n",
    "a = np.asarray(l) #2\n",
    "b = np.asarray(a) #1\n",
    "c = np.asarray(a, dtype=np.float64)#3\n",
    "\n",
    "print(a is b) # 2\n",
    "print(l is a) # 1\n",
    "print(c is a) # 3\n",
    "type(a)"
   ]
  },
  {
   "cell_type": "code",
   "execution_count": 35,
   "metadata": {},
   "outputs": [
    {
     "name": "stdout",
     "output_type": "stream",
     "text": [
      "%time [x+5 for x in l1][:10]\n",
      "[x+5 for x in l1][:10]\n",
      "[x+5 for x in l1][:10]\n",
      "print(\"Line1\")\n",
      "print(\"Line2\")\n",
      "%time sum([1,3,4])\n",
      "%time l1 = list(range(1,3000000))\n",
      "[x+5 for x in l1][:10]\n",
      "%time [x+5 for x in l1][:10]\n",
      "for i,v in list(enumerate(l1)):\n",
      "    l1[i]=l1[i]+5\n",
      "l1[:10]\n",
      "\n",
      "a = [[1,2,3],\n",
      "    [4,5,6],\n",
      "    [7,8,9]]\n",
      "\n",
      "print(\"Before Adding 5\")\n",
      "print(a)\n",
      "for ri, rd in list(enumerate(a)):\n",
      "    for ci, cd in list(enumerate(rd)):\n",
      "        a[ri][ci] += 5\n",
      "        \n",
      "\n",
      "print(\"After Adding 5\")\n",
      "print(a)\n",
      "# it was not possible to simple add list/array\n",
      "a = [1,2,3]\n",
      "a + 5\n",
      "l1 = np.array([1])\n",
      "print(\"Dimension:\", l2.ndim)\n",
      "print(\"Shape:\", l2.shape)\n",
      "print(\"Type:\", l2.dtype)\n",
      "import numpy as np\n",
      "%time l2 = np.arange(1,3000000)\n",
      "l1 = np.array([1])\n",
      "print(\"Dimension:\", l2.ndim)\n",
      "print(\"Shape:\", l2.shape)\n",
      "print(\"Type:\", l2.dtype)\n",
      "l1[i,j,k]\n",
      "l1 = np.arange(27).reshape((3,3,3))\n",
      "print(l1)\n",
      "print(\"Dimension:\", l1.ndim)\n",
      "print(\"Shape:\", l1.shape)\n",
      "print(\"Type:\", l1.dtype)\n",
      "\n",
      "l1[1,2,1]\n",
      "l1 = np.arange(27).reshape((3,3,3))\n",
      "print(l1)\n",
      "print(\"Dimension:\", l1.ndim)\n",
      "print(\"Shape:\", l1.shape)\n",
      "print(\"Type:\", l1.dtype)\n",
      "print(l1)\n",
      "l1 = np.arange(27).reshape((3,3,3))\n",
      "print(l1)\n",
      "print(\"Dimension:\", l1.ndim)\n",
      "print(\"Shape:\", l1.shape)\n",
      "print(\"Type:\", l1.dtype)\n",
      "l1[1,2,1]\n",
      "l1 = np.arange(27).reshape((3,3,3))\n",
      "print(l1)\n",
      "print(\"Dimension:\", l1.ndim)\n",
      "print(\"Shape:\", l1.shape)\n",
      "print(\"Type:\", l1.dtype)\n",
      "l1[1,2,1]\n",
      "#l1[i,j,k]\n",
      "3 x 3\n",
      "#l1[i,j,k]\n",
      "#3 x 3\n",
      "#By numpy we dont require bi loops. we can simply add\n",
      "l1 = np.arange(27).reshape((3,3,3))\n",
      "print(l1)\n",
      "\n",
      "l1 = l1 + 5\n",
      "l1\n",
      "l1 = np.arange(1,11)\n",
      "print(l1)\n",
      "print(\"Dimension:\", l1.ndim)\n",
      "print(\"Shape:\", l1.shape)\n",
      "print(\"Type:\", l1.dtype)\n",
      "# Deep Copy\n",
      "l = [1,2,3]\n",
      "print(type(l))\n",
      "\n",
      "a = np.array(l)\n",
      "b = np.array(a)\n",
      "\n",
      "print(a is b)\n",
      "type(a)\n",
      "#array m deep copy\n",
      "# Deep Copy\n",
      "l = [1,2,3]\n",
      "print(type(l))\n",
      "\n",
      "# a = np.array(l)\n",
      "# b = np.array(a)\n",
      "\n",
      "# print(a is b)\n",
      "# type(a)\n",
      "# #array m deep copy\n",
      "# Deep Copy\n",
      "l = [1,2,3]\n",
      "print(type(l))\n",
      "\n",
      " a = np.array(l)\n",
      "# b = np.array(a)\n",
      "\n",
      "# print(a is b)\n",
      "# type(a)\n",
      "# #array m deep copy\n",
      "# Deep Copy\n",
      "l = [1,2,3]\n",
      "print(type(l))\n",
      "\n",
      "a = np.array(l)\n",
      "# b = np.array(a)\n",
      "\n",
      "# print(a is b)\n",
      "# type(a)\n",
      "# #array m deep copy\n",
      "# Deep Copy\n",
      "l = [1,2,3]\n",
      "print(type(l))\n",
      "\n",
      "a = np.array(l)\n",
      "b = np.array(a)\n",
      "\n",
      "print(a is b)\n",
      "# type(a)\n",
      "# #array m deep copy\n",
      "# Deep Copy\n",
      "l = [1,2,3]\n",
      "print(type(l))\n",
      "\n",
      "a = np.array(l)\n",
      "b = np.array(a)\n",
      "\n",
      "print(a is b)\n",
      "type(a)\n",
      "# #array m deep copy\n",
      "# 1 array->Shallow Copy\n",
      "# 2 array->Change dtype -> Deep Copy\n",
      "# 3 if not array->Deep copy\n",
      "l = [1,2,3]\n",
      "print(type(l))\n",
      "\n",
      "a = np.asarray(l) #2\n",
      "b = np.asarray(a) #1\n",
      "c = np.asarray(a, dtype=np.float64)#3\n",
      "\n",
      "print(a is b) # 2\n",
      "print(l is a) # 1\n",
      "print(c is a) # 3\n",
      "type(a)\n",
      "%history\n"
     ]
    }
   ],
   "source": [
    "%history"
   ]
  },
  {
   "cell_type": "code",
   "execution_count": null,
   "metadata": {},
   "outputs": [],
   "source": []
  }
 ],
 "metadata": {
  "kernelspec": {
   "display_name": "Python 3",
   "language": "python",
   "name": "python3"
  },
  "language_info": {
   "codemirror_mode": {
    "name": "ipython",
    "version": 3
   },
   "file_extension": ".py",
   "mimetype": "text/x-python",
   "name": "python",
   "nbconvert_exporter": "python",
   "pygments_lexer": "ipython3",
   "version": "3.7.4"
  }
 },
 "nbformat": 4,
 "nbformat_minor": 2
}
